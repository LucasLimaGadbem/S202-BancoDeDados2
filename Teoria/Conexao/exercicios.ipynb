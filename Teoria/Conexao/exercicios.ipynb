{
 "cells": [
  {
   "cell_type": "markdown",
   "metadata": {},
   "source": [
    "## Linkando o bd"
   ]
  },
  {
   "cell_type": "code",
   "execution_count": 2,
   "metadata": {},
   "outputs": [],
   "source": [
    "from pymongo import MongoClient\n",
    "client = MongoClient('mongodb://localhost:27017/')\n",
    "db = client['dbworld']"
   ]
  },
  {
   "cell_type": "markdown",
   "metadata": {},
   "source": [
    "Exercicio 1"
   ]
  },
  {
   "cell_type": "code",
   "execution_count": 7,
   "metadata": {},
   "outputs": [
    {
     "name": "stdout",
     "output_type": "stream",
     "text": [
      "{'_id': ObjectId('55a0f42f20a4d760b5fc305e'), 'name': {'official': 'Anguilla'}}\n",
      "{'_id': ObjectId('55a0f42f20a4d760b5fc3072'),\n",
      " 'name': {'official': 'Collectivity of Saint BarthélemySaint Barthélemy'}}\n",
      "{'_id': ObjectId('55a0f42f20a4d760b5fc3074'), 'name': {'official': 'Bermuda'}}\n",
      "{'_id': ObjectId('55a0f42f20a4d760b5fc30f8'),\n",
      " 'name': {'official': 'Saint Martin'}}\n",
      "{'_id': ObjectId('55a0f42f20a4d760b5fc312d'),\n",
      " 'name': {'official': 'Sint Maarten'}}\n",
      "{'_id': ObjectId('55a0f42f20a4d760b5fc3141'),\n",
      " 'name': {'official': 'United States Minor Outlying Islands'}}\n"
     ]
    }
   ],
   "source": [
    "paises = db.countries\n",
    "result = paises.find({\"region\": \"Americas\", \"area\": {\"$lte\": 100}}, {\"name.official\": 1})\n",
    "\n",
    "import pprint\n",
    "\n",
    "for aux in result:\n",
    "    pprint.pprint(aux)"
   ]
  },
  {
   "cell_type": "markdown",
   "metadata": {},
   "source": [
    "Exercicio 2"
   ]
  },
  {
   "cell_type": "code",
   "execution_count": 11,
   "metadata": {},
   "outputs": [
    {
     "name": "stdout",
     "output_type": "stream",
     "text": [
      "{'_id': ObjectId('55a0f42f20a4d760b5fc3060'),\n",
      " 'latlng': [-12.5, 18.5],\n",
      " 'name': {'common': 'Angola'}}\n",
      "{'_id': ObjectId('55a0f42f20a4d760b5fc3078'),\n",
      " 'latlng': [-10, -55],\n",
      " 'name': {'common': 'Brazil'}}\n",
      "{'_id': ObjectId('55a0f42f20a4d760b5fc3090'),\n",
      " 'latlng': [16, -24],\n",
      " 'name': {'common': 'Cape Verde'}}\n",
      "{'_id': ObjectId('55a0f42f20a4d760b5fc30af'),\n",
      " 'latlng': [2, 10],\n",
      " 'name': {'common': 'Equatorial Guinea'}}\n",
      "{'_id': ObjectId('55a0f42f20a4d760b5fc30b4'),\n",
      " 'latlng': [12, -15],\n",
      " 'name': {'common': 'Guinea-Bissau'}}\n",
      "{'_id': ObjectId('55a0f42f20a4d760b5fc30e5'),\n",
      " 'latlng': [22.16666666, 113.55],\n",
      " 'name': {'common': 'Macau'}}\n",
      "{'_id': ObjectId('55a0f42f20a4d760b5fc30f0'),\n",
      " 'latlng': [-18.25, 35],\n",
      " 'name': {'common': 'Mozambique'}}\n",
      "{'_id': ObjectId('55a0f42f20a4d760b5fc310f'),\n",
      " 'latlng': [39.5, -8],\n",
      " 'name': {'common': 'Portugal'}}\n",
      "{'_id': ObjectId('55a0f42f20a4d760b5fc312a'),\n",
      " 'latlng': [1, 7],\n",
      " 'name': {'common': 'São Tomé and Príncipe'}}\n",
      "{'_id': ObjectId('55a0f42f20a4d760b5fc3139'),\n",
      " 'latlng': [-8.83333333, 125.91666666],\n",
      " 'name': {'common': 'Timor-Leste'}}\n"
     ]
    }
   ],
   "source": [
    "results = paises.find({\"languages.por\": {\"$exists\": True}},{\"name.common\" : 1, \"latlng\" : 1})\n",
    "\n",
    "import pprint\n",
    "\n",
    "for aux in results:\n",
    "    pprint.pprint(aux)"
   ]
  },
  {
   "cell_type": "markdown",
   "metadata": {},
   "source": [
    "Exercicio 3"
   ]
  },
  {
   "cell_type": "code",
   "execution_count": 18,
   "metadata": {},
   "outputs": [
    {
     "name": "stdout",
     "output_type": "stream",
     "text": [
      "{'_id': ObjectId('55a0f42f20a4d760b5fc3078'), 'name': {'common': 'Brazil'}}\n",
      "{'_id': ObjectId('55a0f42f20a4d760b5fc3076'), 'name': {'common': 'Bolivia'}}\n",
      "{'_id': ObjectId('55a0f42f20a4d760b5fc3081'), 'name': {'common': 'Botswana'}}\n",
      "{'_id': ObjectId('55a0f42f20a4d760b5fc306d'),\n",
      " 'name': {'common': 'Burkina Faso'}}\n",
      "{'_id': ObjectId('55a0f42f20a4d760b5fc307d'), 'name': {'common': 'Belarus'}}\n",
      "{'_id': ObjectId('55a0f42f20a4d760b5fc306e'), 'name': {'common': 'Bangladesh'}}\n",
      "{'_id': ObjectId('55a0f42f20a4d760b5fc306c'), 'name': {'common': 'Benin'}}\n",
      "{'_id': ObjectId('55a0f42f20a4d760b5fc306f'), 'name': {'common': 'Bulgaria'}}\n",
      "{'_id': ObjectId('55a0f42f20a4d760b5fc3071'),\n",
      " 'name': {'common': 'Bosnia and Herzegovina'}}\n",
      "{'_id': ObjectId('55a0f42f20a4d760b5fc307c'), 'name': {'common': 'Bhutan'}}\n",
      "{'_id': ObjectId('55a0f42f20a4d760b5fc306b'), 'name': {'common': 'Belgium'}}\n",
      "{'_id': ObjectId('55a0f42f20a4d760b5fc306a'), 'name': {'common': 'Burundi'}}\n",
      "{'_id': ObjectId('55a0f42f20a4d760b5fc3073'), 'name': {'common': 'Belize'}}\n",
      "{'_id': ObjectId('55a0f42f20a4d760b5fc3070'), 'name': {'common': 'Bahamas'}}\n",
      "{'_id': ObjectId('55a0f42f20a4d760b5fc3079'), 'name': {'common': 'Brunei'}}\n",
      "{'_id': ObjectId('55a0f42f20a4d760b5fc307e'), 'name': {'common': 'Bahrain'}}\n",
      "{'_id': ObjectId('55a0f42f20a4d760b5fc3082'), 'name': {'common': 'Barbados'}}\n",
      "{'_id': ObjectId('55a0f42f20a4d760b5fc3147'),\n",
      " 'name': {'common': 'British Virgin Islands'}}\n",
      "{'_id': ObjectId('55a0f42f20a4d760b5fc30c1'),\n",
      " 'name': {'common': 'British Indian Ocean Territory'}}\n",
      "{'_id': ObjectId('55a0f42f20a4d760b5fc3074'), 'name': {'common': 'Bermuda'}}\n",
      "{'_id': ObjectId('55a0f42f20a4d760b5fc307a'),\n",
      " 'name': {'common': 'Bouvet Island'}}\n"
     ]
    }
   ],
   "source": [
    "results = paises.find(\n",
    "    {\"name.common\": {\"$regex\": \"^B\"}},\n",
    "    {\"name.common\": 1}\n",
    ").sort(\"area\", -1)\n",
    "\n",
    "import pprint\n",
    "\n",
    "for aux in results:\n",
    "    pprint.pprint(aux)"
   ]
  }
 ],
 "metadata": {
  "kernelspec": {
   "display_name": "Python 3",
   "language": "python",
   "name": "python3"
  },
  "language_info": {
   "codemirror_mode": {
    "name": "ipython",
    "version": 3
   },
   "file_extension": ".py",
   "mimetype": "text/x-python",
   "name": "python",
   "nbconvert_exporter": "python",
   "pygments_lexer": "ipython3",
   "version": "3.12.4"
  }
 },
 "nbformat": 4,
 "nbformat_minor": 2
}
